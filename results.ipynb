{
 "cells": [
  {
   "cell_type": "markdown",
   "id": "81b28c4e",
   "metadata": {},
   "source": [
    "This project compares different machine learning models on financial data such as... for...\n",
    "We used an object oriented approach to assure clean and reusable code.\n",
    "Every linear model inherits from a base linear model.\n"
   ]
  },
  {
   "cell_type": "code",
   "execution_count": 1,
   "id": "7bd6735d",
   "metadata": {},
   "outputs": [],
   "source": [
    "from data_processing import split_data\n",
    "X_train, X_val, X_test, y_train, y_val, y_test = split_data()"
   ]
  }
 ],
 "metadata": {
  "kernelspec": {
   "display_name": "meinprojekt",
   "language": "python",
   "name": "python3"
  },
  "language_info": {
   "codemirror_mode": {
    "name": "ipython",
    "version": 3
   },
   "file_extension": ".py",
   "mimetype": "text/x-python",
   "name": "python",
   "nbconvert_exporter": "python",
   "pygments_lexer": "ipython3",
   "version": "3.11.11"
  }
 },
 "nbformat": 4,
 "nbformat_minor": 5
}
